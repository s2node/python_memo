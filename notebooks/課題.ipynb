{
 "cells": [
  {
   "cell_type": "code",
   "execution_count": 10,
   "metadata": {},
   "outputs": [
    {
     "name": "stdout",
     "output_type": "stream",
     "text": [
      "1\t2\t3\t4\t5\t6\t7\t8\t9\t10\t\n",
      "11\t12\t13\t14\t15\t16\t17\t18\t19\t20\t\n",
      "21\t22\t23\t24\t25\t26\t27\t28\t29\t30\t\n",
      "31\t32\t33\t34\t35\t36\t37\t38\t39\t40\t\n",
      "41\t42\t43\t44\t45\t46\t47\t48\t49\t50\t\n",
      "51\t52\t53\t54\t55\t56\t57\t58\t59\t60\t\n",
      "61\t62\t63\t64\t65\t66\t67\t68\t69\t70\t\n",
      "71\t72\t73\t74\t75\t76\t77\t78\t79\t80\t\n",
      "81\t82\t83\t84\t85\t86\t87\t88\t89\t90\t\n",
      "91\t92\t93\t94\t95\t96\t97\t98\t99\t100\t\n"
     ]
    }
   ],
   "source": [
    "n = 1\n",
    "for i in range(10):\n",
    "    s = ''\n",
    "    for i in range(10):\n",
    "        s = s + str(n) + \"\\t\"\n",
    "        n +=1\n",
    "    print(s)\n"
   ]
  },
  {
   "cell_type": "code",
   "execution_count": 12,
   "metadata": {},
   "outputs": [
    {
     "name": "stdout",
     "output_type": "stream",
     "text": [
      "  1\t  2\t  3\t  4\t  5\t  6\t  7\t  8\t  9\t 10\t\n",
      " 11\t 12\t 13\t 14\t 15\t 16\t 17\t 18\t 19\t 20\t\n",
      " 21\t 22\t 23\t 24\t 25\t 26\t 27\t 28\t 29\t 30\t\n",
      " 31\t 32\t 33\t 34\t 35\t 36\t 37\t 38\t 39\t 40\t\n",
      " 41\t 42\t 43\t 44\t 45\t 46\t 47\t 48\t 49\t 50\t\n",
      " 51\t 52\t 53\t 54\t 55\t 56\t 57\t 58\t 59\t 60\t\n",
      " 61\t 62\t 63\t 64\t 65\t 66\t 67\t 68\t 69\t 70\t\n",
      " 71\t 72\t 73\t 74\t 75\t 76\t 77\t 78\t 79\t 80\t\n",
      " 81\t 82\t 83\t 84\t 85\t 86\t 87\t 88\t 89\t 90\t\n",
      " 91\t 92\t 93\t 94\t 95\t 96\t 97\t 98\t 99\t100\t\n"
     ]
    }
   ],
   "source": [
    "n = 1\n",
    "for i in range(10):\n",
    "    s = ''\n",
    "    for i in range(10):\n",
    "        s = s + str(n).rjust(3) + \"\\t\"\n",
    "        n +=1\n",
    "    print(s)\n"
   ]
  },
  {
   "cell_type": "markdown",
   "metadata": {},
   "source": [
    "Int型  \n",
    "`  \"{0:04d}\".format(1)  \n",
    "\n",
    "> '0001 \n",
    "\n",
    "因みに以下のようにすると空白で揃えられます。  \n",
    "  \n",
    "` \"{0:4d}\".format(1)  \n",
    "  \n",
    "> '   1'  \n",
    "{0:04d}→{0:4d}とするだけですね。  \n",
    "\n",
    "Float型  \n",
    "` ('%03.3f' % 15)  \n",
    ">'15.000'  \n",
    "  \n",
    "03.3f→３桁まで表示をして、小数点も3以下表示をする  \n",
    "（全体で３桁以下の場合は全て表示をする）   \n",
    "  \n",
    "String型  \n",
    "先ほどの表示よろしく、揃えてみる。  \n",
    "\n",
    "` \"{0:10s}\".format(\"abcd\")    \n",
    " 'abcd      '    \n",
    "その他色々な揃え方、右寄せ左寄せ、中央そろえ、ゼロ埋め  \n",
    "\n",
    "` s = \"python\"  \n",
    " s.ljust(10)  \n",
    "\n",
    "> 'python    '  \n",
    "\n",
    "` s.rjust(10)  \n",
    "\n",
    "> '    python'  \n",
    "\n",
    "`s.center(10)  \n",
    ">  '  python  '  \n",
    "\n",
    "` s.zfill(10)  \n",
    "\n",
    "> '0000python'  \n",
    " "
   ]
  },
  {
   "cell_type": "code",
   "execution_count": 15,
   "metadata": {},
   "outputs": [
    {
     "name": "stdout",
     "output_type": "stream",
     "text": [
      "売り上げ：50\n",
      "売り上げはいまいちです。\n",
      "処理を終了します\n"
     ]
    }
   ],
   "source": [
    "s = int(input(\"売り上げ：\"))\n",
    "if s >= 100:\n",
    "    print(\"売り上げは好調です。\")\n",
    "else:\n",
    "    print(\"売り上げはいまいちです。\")\n",
    "print(\"処理を終了します\")"
   ]
  },
  {
   "cell_type": "code",
   "execution_count": null,
   "metadata": {},
   "outputs": [],
   "source": []
  }
 ],
 "metadata": {
  "kernelspec": {
   "display_name": "Python 3",
   "language": "python",
   "name": "python3"
  }
 },
 "nbformat": 4,
 "nbformat_minor": 2
}
